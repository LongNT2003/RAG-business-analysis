{
 "cells": [
  {
   "cell_type": "code",
   "execution_count": 1,
   "metadata": {},
   "outputs": [],
   "source": [
    "from qdrant_client import QdrantClient\n",
    "from qdrant_client.models import VectorParams, Distance\n",
    "from typing import List\n",
    "from langchain.text_splitter import RecursiveCharacterTextSplitter\n",
    "from langchain_qdrant import QdrantVectorStore\n",
    "from langchain_huggingface import HuggingFaceEmbeddings\n",
    "from langchain_community.document_loaders import DirectoryLoader, CSVLoader\n",
    "from langchain_core.documents import Document\n",
    "from dotenv import load_dotenv\n",
    "import os"
   ]
  },
  {
   "cell_type": "code",
   "execution_count": 2,
   "metadata": {},
   "outputs": [],
   "source": [
    "\n",
    "folder_path='data'\n",
    "db_path='db_qdrant'\n",
    "url=\"https://5d9673e8-d966-4738-adbb-95a5842604ba.europe-west3-0.gcp.cloud.qdrant.io\"\n",
    "load_dotenv()\n",
    "qdrant_key = os.getenv('qdrant_key')"
   ]
  },
  {
   "cell_type": "code",
   "execution_count": 3,
   "metadata": {},
   "outputs": [],
   "source": [
    "def load_text(file_path):\n",
    "    return CSVLoader(file_path=file_path,encoding='utf-8')\n",
    "\n",
    "import re\n",
    "from datetime import datetime\n",
    "\n",
    "# Function to extract date or return current date if not present\n",
    "def extract_date(text):\n",
    "    # Split the text by newlines\n",
    "    lines = text.strip().split(\"\\n\")\n",
    "    \n",
    "    # Check if the 3rd line exists\n",
    "    if len(lines) >= 3:\n",
    "        # Try to match a date pattern in the 3rd line (e.g., \"19 August 2024\")\n",
    "        date_match = re.search(r'(\\d{1,2} \\w+ \\d{4})', lines[2])\n",
    "        if date_match:\n",
    "            return date_match.group(1)  # Return the extracted date\n",
    "\n",
    "    # If no date found, return the current date\n",
    "    return datetime.now().strftime(\"%d %B %Y\")\n",
    "\n",
    "class AdvanceTextSplitter(RecursiveCharacterTextSplitter):\n",
    "    def __init__(self, chunk_size=350, chunk_overlap=50, *args, **kwargs):\n",
    "        super().__init__(chunk_size=chunk_size, chunk_overlap=chunk_overlap, *args, **kwargs)\n",
    "\n",
    "\n",
    "    def remove_redundant_chunks(self, chunks: List[str]) -> List[str]:\n",
    "        result=[]\n",
    "        seen_chunks=set()\n",
    "        idx=0\n",
    "        for chunk in chunks:\n",
    "            if chunk.page_content not in seen_chunks:\n",
    "                chunk.id=idx\n",
    "                result.append(chunk)\n",
    "                seen_chunks.add(chunk.page_content)\n",
    "                idx+=1\n",
    "        return result\n",
    "    def split_documents(self, documents: List[str]) -> List[str]:\n",
    "        chunks=[]\n",
    "        for doc in documents:\n",
    "            curr_chunk = super().split_documents([doc])\n",
    "            date=extract_date(doc.page_content)\n",
    "            for chunk in curr_chunk:\n",
    "                chunk.metadata['date']=date\n",
    "            chunks.extend(curr_chunk)\n",
    "        chunks = self.remove_redundant_chunks(chunks)\n",
    "        \n",
    "        return chunks\n",
    "\n",
    "# # Load documents from the directory\n",
    "# loader = DirectoryLoader(folder_path, glob=\"*.csv\", loader_cls=load_text)\n",
    "# documents = loader.load()\n",
    "# # Split documents into chunks\n",
    "# text_splitter = AdvanceTextSplitter(chunk_size=250, chunk_overlap=40)\n",
    "# docs_from_crawl = text_splitter.split_documents(documents)\n",
    "# print(docs_from_crawl[100].id)"
   ]
  },
  {
   "cell_type": "code",
   "execution_count": 3,
   "metadata": {},
   "outputs": [],
   "source": [
    "def create_vector_db(chunks):\n",
    "    # Generate embeddings\n",
    "    model_name = \"hiieu/halong_embedding\"\n",
    "    embeddings = HuggingFaceEmbeddings(model_name=model_name)\n",
    "    # Create and configure Qdrant client\n",
    "    client = QdrantClient(\n",
    "        url=url, \n",
    "        api_key=qdrant_key,\n",
    "    )\n",
    "    print(client.get_collections())\n",
    "    collection_name = \"cmc_final_db\"\n",
    "    if not client.collection_exists(collection_name):\n",
    "        client.create_collection(\n",
    "            collection_name=collection_name,\n",
    "            vectors_config=VectorParams(size=768, distance=Distance.COSINE),\n",
    "        )\n",
    "    # Store the chunks with summaries in the vector database\n",
    "\n",
    "    number_points = client.count(collection_name).count\n",
    "    print('current number of points:',number_points)\n",
    "    next_ids=number_points+1\n",
    "\n",
    "    desert_chunks=[ x for x in chunks if x.id>=next_ids]\n",
    "    print('number points need to insert:',len(desert_chunks))\n",
    "    vector_store = QdrantVectorStore(\n",
    "        client=client,\n",
    "        collection_name=collection_name,\n",
    "        embedding=embeddings,\n",
    "    )\n",
    "    vector_store.add_documents(desert_chunks)\n",
    "\n",
    "    print(\"Database created and documents added successfully.\")\n",
    "    return vector_store\n",
    "\n",
    "\n",
    "# Call the function with the folder path\n",
    "# db=create_vector_db(docs_from_crawl)\n"
   ]
  },
  {
   "cell_type": "code",
   "execution_count": 4,
   "metadata": {},
   "outputs": [
    {
     "name": "stdout",
     "output_type": "stream",
     "text": [
      "number of documents: 39746\n"
     ]
    }
   ],
   "source": [
    "from pymongo import MongoClient\n",
    "\n",
    "# Connect to MongoDB\n",
    "client = MongoClient('mongodb://localhost:27017/')\n",
    "db = client['cmc_data_3']\n",
    "collection = db['resource']\n",
    "\n",
    "# Fetch all documents\n",
    "documents = collection.find({})  # Adjust query if needed\n",
    "\n",
    "# Convert MongoDB documents to the expected format\n",
    "chunks = []\n",
    "for doc in documents:\n",
    "    # Assuming each document has an 'id' and 'page_content'\n",
    "    chunk=Document(\n",
    "        page_content=doc['page_content'],\n",
    "        metadata= {key: value for key, value in doc.items() if key not in ['_id', 'id', 'page_content']}\n",
    "    )\n",
    "    chunk.id=doc['_id']\n",
    "    chunks.append(chunk)\n",
    "print('number of documents:', len(chunks))"
   ]
  },
  {
   "cell_type": "code",
   "execution_count": 5,
   "metadata": {},
   "outputs": [
    {
     "data": {
      "text/plain": [
       "Document(id=101, metadata={'date': '2024-11', 'source': 'Su ky CMC30.pdf'}, page_content='.Hình ảnh: Anh Nguyễn Trung Chính đứng  trước cửa Công ty TNHH HT&NT Hình ảnh: Số nhà 30 Lý Nam Đế.Từ những nhà nghiên cứu, những kỹ sư tin học của HT&NT trở thành  những người lắp ráp, sửa chữa và cung cấp máy tính.')"
      ]
     },
     "execution_count": 5,
     "metadata": {},
     "output_type": "execute_result"
    }
   ],
   "source": [
    "chunks[100]"
   ]
  },
  {
   "cell_type": "code",
   "execution_count": null,
   "metadata": {},
   "outputs": [
    {
     "name": "stderr",
     "output_type": "stream",
     "text": [
      "e:\\Python\\Lib\\site-packages\\sentence_transformers\\cross_encoder\\CrossEncoder.py:13: TqdmWarning: IProgress not found. Please update jupyter and ipywidgets. See https://ipywidgets.readthedocs.io/en/stable/user_install.html\n",
      "  from tqdm.autonotebook import tqdm, trange\n"
     ]
    },
    {
     "name": "stdout",
     "output_type": "stream",
     "text": [
      "WARNING:tensorflow:From e:\\Python\\Lib\\site-packages\\tf_keras\\src\\losses.py:2976: The name tf.losses.sparse_softmax_cross_entropy is deprecated. Please use tf.compat.v1.losses.sparse_softmax_cross_entropy instead.\n",
      "\n",
      "collections=[CollectionDescription(name='cmc_final_db')]\n",
      "current number of points: 37888\n",
      "number points need to insert: 1858\n",
      "collections=[CollectionDescription(name='cmc_final_db')]\n",
      "current number of points: 38144\n",
      "number points need to insert: 1602\n",
      "collections=[CollectionDescription(name='cmc_final_db')]\n",
      "current number of points: 38400\n",
      "number points need to insert: 1346\n",
      "collections=[CollectionDescription(name='cmc_final_db')]\n",
      "current number of points: 39168\n",
      "number points need to insert: 578\n",
      "collections=[CollectionDescription(name='cmc_final_db')]\n",
      "current number of points: 39168\n",
      "number points need to insert: 578\n",
      "collections=[CollectionDescription(name='cmc_final_db')]\n",
      "current number of points: 39168\n",
      "number points need to insert: 578\n",
      "Database created and documents added successfully.\n",
      "collections=[CollectionDescription(name='cmc_final_db')]\n",
      "current number of points: 39746\n",
      "number points need to insert: 0\n",
      "Database created and documents added successfully.\n",
      "collections=[CollectionDescription(name='cmc_final_db')]\n",
      "current number of points: 39746\n",
      "number points need to insert: 0\n",
      "Database created and documents added successfully.\n",
      "collections=[CollectionDescription(name='cmc_final_db')]\n",
      "current number of points: 39746\n",
      "number points need to insert: 0\n",
      "Database created and documents added successfully.\n",
      "collections=[CollectionDescription(name='cmc_final_db')]\n",
      "current number of points: 39746\n",
      "number points need to insert: 0\n",
      "Database created and documents added successfully.\n",
      "collections=[CollectionDescription(name='cmc_final_db')]\n",
      "current number of points: 39746\n",
      "number points need to insert: 0\n",
      "Database created and documents added successfully.\n",
      "collections=[CollectionDescription(name='cmc_final_db')]\n",
      "current number of points: 39746\n",
      "number points need to insert: 0\n",
      "Database created and documents added successfully.\n",
      "collections=[CollectionDescription(name='cmc_final_db')]\n",
      "current number of points: 39746\n",
      "number points need to insert: 0\n",
      "Database created and documents added successfully.\n",
      "collections=[CollectionDescription(name='cmc_final_db')]\n",
      "current number of points: 39746\n",
      "number points need to insert: 0\n",
      "Database created and documents added successfully.\n",
      "collections=[CollectionDescription(name='cmc_final_db')]\n",
      "current number of points: 39746\n",
      "number points need to insert: 0\n",
      "Database created and documents added successfully.\n",
      "collections=[CollectionDescription(name='cmc_final_db')]\n",
      "current number of points: 39746\n",
      "number points need to insert: 0\n",
      "Database created and documents added successfully.\n",
      "collections=[CollectionDescription(name='cmc_final_db')]\n",
      "current number of points: 39746\n",
      "number points need to insert: 0\n",
      "Database created and documents added successfully.\n",
      "collections=[CollectionDescription(name='cmc_final_db')]\n",
      "current number of points: 39746\n",
      "number points need to insert: 0\n",
      "Database created and documents added successfully.\n",
      "collections=[CollectionDescription(name='cmc_final_db')]\n",
      "current number of points: 39746\n",
      "number points need to insert: 0\n"
     ]
    }
   ],
   "source": [
    "for i in range(40):\n",
    "    try:\n",
    "        create_vector_db(chunks)\n",
    "    except:\n",
    "        pass"
   ]
  },
  {
   "cell_type": "code",
   "execution_count": null,
   "metadata": {},
   "outputs": [
    {
     "name": "stdout",
     "output_type": "stream",
     "text": [
      "collections=[]\n"
     ]
    },
    {
     "ename": "UnexpectedResponse",
     "evalue": "Unexpected Response: 404 (Not Found)\nRaw response content:\nb'{\"status\":{\"error\":\"Not found: Collection `cmc_final_db` doesn\\'t exist!\"},\"time\":0.000030793}'",
     "output_type": "error",
     "traceback": [
      "\u001b[1;31m---------------------------------------------------------------------------\u001b[0m",
      "\u001b[1;31mUnexpectedResponse\u001b[0m                        Traceback (most recent call last)",
      "Cell \u001b[1;32mIn[8], line 8\u001b[0m\n\u001b[0;32m      6\u001b[0m diachi_doc\u001b[38;5;241m=\u001b[39mDocument(page_content\u001b[38;5;241m=\u001b[39mdiachi)\n\u001b[0;32m      7\u001b[0m collection_name \u001b[38;5;241m=\u001b[39m \u001b[38;5;124m\"\u001b[39m\u001b[38;5;124mcmc_final_db\u001b[39m\u001b[38;5;124m\"\u001b[39m\n\u001b[1;32m----> 8\u001b[0m number_points \u001b[38;5;241m=\u001b[39m \u001b[43mclient\u001b[49m\u001b[38;5;241;43m.\u001b[39;49m\u001b[43mcount\u001b[49m\u001b[43m(\u001b[49m\u001b[43mcollection_name\u001b[49m\u001b[43m)\u001b[49m\u001b[38;5;241m.\u001b[39mcount\n\u001b[0;32m      9\u001b[0m \u001b[38;5;28mprint\u001b[39m(number_points)\n\u001b[0;32m     10\u001b[0m dis_list\u001b[38;5;241m=\u001b[39m[diachi_doc]\n",
      "File \u001b[1;32me:\\Python\\Lib\\site-packages\\qdrant_client\\qdrant_client.py:1412\u001b[0m, in \u001b[0;36mQdrantClient.count\u001b[1;34m(self, collection_name, count_filter, exact, shard_key_selector, timeout, **kwargs)\u001b[0m\n\u001b[0;32m   1389\u001b[0m \u001b[38;5;250m\u001b[39m\u001b[38;5;124;03m\"\"\"Count points in the collection.\u001b[39;00m\n\u001b[0;32m   1390\u001b[0m \n\u001b[0;32m   1391\u001b[0m \u001b[38;5;124;03mCount points in the collection matching the given filter.\u001b[39;00m\n\u001b[1;32m   (...)\u001b[0m\n\u001b[0;32m   1408\u001b[0m \u001b[38;5;124;03m    Amount of points in the collection matching the filter.\u001b[39;00m\n\u001b[0;32m   1409\u001b[0m \u001b[38;5;124;03m\"\"\"\u001b[39;00m\n\u001b[0;32m   1410\u001b[0m \u001b[38;5;28;01massert\u001b[39;00m \u001b[38;5;28mlen\u001b[39m(kwargs) \u001b[38;5;241m==\u001b[39m \u001b[38;5;241m0\u001b[39m, \u001b[38;5;124mf\u001b[39m\u001b[38;5;124m\"\u001b[39m\u001b[38;5;124mUnknown arguments: \u001b[39m\u001b[38;5;132;01m{\u001b[39;00m\u001b[38;5;28mlist\u001b[39m(kwargs\u001b[38;5;241m.\u001b[39mkeys())\u001b[38;5;132;01m}\u001b[39;00m\u001b[38;5;124m\"\u001b[39m\n\u001b[1;32m-> 1412\u001b[0m \u001b[38;5;28;01mreturn\u001b[39;00m \u001b[38;5;28;43mself\u001b[39;49m\u001b[38;5;241;43m.\u001b[39;49m\u001b[43m_client\u001b[49m\u001b[38;5;241;43m.\u001b[39;49m\u001b[43mcount\u001b[49m\u001b[43m(\u001b[49m\n\u001b[0;32m   1413\u001b[0m \u001b[43m    \u001b[49m\u001b[43mcollection_name\u001b[49m\u001b[38;5;241;43m=\u001b[39;49m\u001b[43mcollection_name\u001b[49m\u001b[43m,\u001b[49m\n\u001b[0;32m   1414\u001b[0m \u001b[43m    \u001b[49m\u001b[43mcount_filter\u001b[49m\u001b[38;5;241;43m=\u001b[39;49m\u001b[43mcount_filter\u001b[49m\u001b[43m,\u001b[49m\n\u001b[0;32m   1415\u001b[0m \u001b[43m    \u001b[49m\u001b[43mexact\u001b[49m\u001b[38;5;241;43m=\u001b[39;49m\u001b[43mexact\u001b[49m\u001b[43m,\u001b[49m\n\u001b[0;32m   1416\u001b[0m \u001b[43m    \u001b[49m\u001b[43mshard_key_selector\u001b[49m\u001b[38;5;241;43m=\u001b[39;49m\u001b[43mshard_key_selector\u001b[49m\u001b[43m,\u001b[49m\n\u001b[0;32m   1417\u001b[0m \u001b[43m    \u001b[49m\u001b[43mtimeout\u001b[49m\u001b[38;5;241;43m=\u001b[39;49m\u001b[43mtimeout\u001b[49m\u001b[43m,\u001b[49m\n\u001b[0;32m   1418\u001b[0m \u001b[43m    \u001b[49m\u001b[38;5;241;43m*\u001b[39;49m\u001b[38;5;241;43m*\u001b[39;49m\u001b[43mkwargs\u001b[49m\u001b[43m,\u001b[49m\n\u001b[0;32m   1419\u001b[0m \u001b[43m\u001b[49m\u001b[43m)\u001b[49m\n",
      "File \u001b[1;32me:\\Python\\Lib\\site-packages\\qdrant_client\\qdrant_remote.py:1795\u001b[0m, in \u001b[0;36mQdrantRemote.count\u001b[1;34m(self, collection_name, count_filter, exact, shard_key_selector, timeout, **kwargs)\u001b[0m\n\u001b[0;32m   1792\u001b[0m \u001b[38;5;28;01mif\u001b[39;00m \u001b[38;5;28misinstance\u001b[39m(count_filter, grpc\u001b[38;5;241m.\u001b[39mFilter):\n\u001b[0;32m   1793\u001b[0m     count_filter \u001b[38;5;241m=\u001b[39m GrpcToRest\u001b[38;5;241m.\u001b[39mconvert_filter(model\u001b[38;5;241m=\u001b[39mcount_filter)\n\u001b[1;32m-> 1795\u001b[0m count_result \u001b[38;5;241m=\u001b[39m \u001b[38;5;28;43mself\u001b[39;49m\u001b[38;5;241;43m.\u001b[39;49m\u001b[43mopenapi_client\u001b[49m\u001b[38;5;241;43m.\u001b[39;49m\u001b[43mpoints_api\u001b[49m\u001b[38;5;241;43m.\u001b[39;49m\u001b[43mcount_points\u001b[49m\u001b[43m(\u001b[49m\n\u001b[0;32m   1796\u001b[0m \u001b[43m    \u001b[49m\u001b[43mcollection_name\u001b[49m\u001b[38;5;241;43m=\u001b[39;49m\u001b[43mcollection_name\u001b[49m\u001b[43m,\u001b[49m\n\u001b[0;32m   1797\u001b[0m \u001b[43m    \u001b[49m\u001b[43mcount_request\u001b[49m\u001b[38;5;241;43m=\u001b[39;49m\u001b[43mmodels\u001b[49m\u001b[38;5;241;43m.\u001b[39;49m\u001b[43mCountRequest\u001b[49m\u001b[43m(\u001b[49m\n\u001b[0;32m   1798\u001b[0m \u001b[43m        \u001b[49m\u001b[38;5;28;43mfilter\u001b[39;49m\u001b[38;5;241;43m=\u001b[39;49m\u001b[43mcount_filter\u001b[49m\u001b[43m,\u001b[49m\n\u001b[0;32m   1799\u001b[0m \u001b[43m        \u001b[49m\u001b[43mexact\u001b[49m\u001b[38;5;241;43m=\u001b[39;49m\u001b[43mexact\u001b[49m\u001b[43m,\u001b[49m\n\u001b[0;32m   1800\u001b[0m \u001b[43m        \u001b[49m\u001b[43mshard_key\u001b[49m\u001b[38;5;241;43m=\u001b[39;49m\u001b[43mshard_key_selector\u001b[49m\u001b[43m,\u001b[49m\n\u001b[0;32m   1801\u001b[0m \u001b[43m    \u001b[49m\u001b[43m)\u001b[49m\u001b[43m,\u001b[49m\n\u001b[0;32m   1802\u001b[0m \u001b[43m    \u001b[49m\u001b[43mtimeout\u001b[49m\u001b[38;5;241;43m=\u001b[39;49m\u001b[43mtimeout\u001b[49m\u001b[43m,\u001b[49m\n\u001b[0;32m   1803\u001b[0m \u001b[43m\u001b[49m\u001b[43m)\u001b[49m\u001b[38;5;241m.\u001b[39mresult\n\u001b[0;32m   1804\u001b[0m \u001b[38;5;28;01massert\u001b[39;00m count_result \u001b[38;5;129;01mis\u001b[39;00m \u001b[38;5;129;01mnot\u001b[39;00m \u001b[38;5;28;01mNone\u001b[39;00m, \u001b[38;5;124m\"\u001b[39m\u001b[38;5;124mCount points returned None result\u001b[39m\u001b[38;5;124m\"\u001b[39m\n\u001b[0;32m   1805\u001b[0m \u001b[38;5;28;01mreturn\u001b[39;00m count_result\n",
      "File \u001b[1;32me:\\Python\\Lib\\site-packages\\qdrant_client\\http\\api\\points_api.py:1466\u001b[0m, in \u001b[0;36mSyncPointsApi.count_points\u001b[1;34m(self, collection_name, timeout, count_request)\u001b[0m\n\u001b[0;32m   1457\u001b[0m \u001b[38;5;28;01mdef\u001b[39;00m \u001b[38;5;21mcount_points\u001b[39m(\n\u001b[0;32m   1458\u001b[0m     \u001b[38;5;28mself\u001b[39m,\n\u001b[0;32m   1459\u001b[0m     collection_name: \u001b[38;5;28mstr\u001b[39m,\n\u001b[0;32m   1460\u001b[0m     timeout: \u001b[38;5;28mint\u001b[39m \u001b[38;5;241m=\u001b[39m \u001b[38;5;28;01mNone\u001b[39;00m,\n\u001b[0;32m   1461\u001b[0m     count_request: m\u001b[38;5;241m.\u001b[39mCountRequest \u001b[38;5;241m=\u001b[39m \u001b[38;5;28;01mNone\u001b[39;00m,\n\u001b[0;32m   1462\u001b[0m ) \u001b[38;5;241m-\u001b[39m\u001b[38;5;241m>\u001b[39m m\u001b[38;5;241m.\u001b[39mInlineResponse20019:\n\u001b[0;32m   1463\u001b[0m \u001b[38;5;250m    \u001b[39m\u001b[38;5;124;03m\"\"\"\u001b[39;00m\n\u001b[0;32m   1464\u001b[0m \u001b[38;5;124;03m    Count points which matches given filtering condition\u001b[39;00m\n\u001b[0;32m   1465\u001b[0m \u001b[38;5;124;03m    \"\"\"\u001b[39;00m\n\u001b[1;32m-> 1466\u001b[0m     \u001b[38;5;28;01mreturn\u001b[39;00m \u001b[38;5;28;43mself\u001b[39;49m\u001b[38;5;241;43m.\u001b[39;49m\u001b[43m_build_for_count_points\u001b[49m\u001b[43m(\u001b[49m\n\u001b[0;32m   1467\u001b[0m \u001b[43m        \u001b[49m\u001b[43mcollection_name\u001b[49m\u001b[38;5;241;43m=\u001b[39;49m\u001b[43mcollection_name\u001b[49m\u001b[43m,\u001b[49m\n\u001b[0;32m   1468\u001b[0m \u001b[43m        \u001b[49m\u001b[43mtimeout\u001b[49m\u001b[38;5;241;43m=\u001b[39;49m\u001b[43mtimeout\u001b[49m\u001b[43m,\u001b[49m\n\u001b[0;32m   1469\u001b[0m \u001b[43m        \u001b[49m\u001b[43mcount_request\u001b[49m\u001b[38;5;241;43m=\u001b[39;49m\u001b[43mcount_request\u001b[49m\u001b[43m,\u001b[49m\n\u001b[0;32m   1470\u001b[0m \u001b[43m    \u001b[49m\u001b[43m)\u001b[49m\n",
      "File \u001b[1;32me:\\Python\\Lib\\site-packages\\qdrant_client\\http\\api\\points_api.py:144\u001b[0m, in \u001b[0;36m_PointsApi._build_for_count_points\u001b[1;34m(self, collection_name, timeout, count_request)\u001b[0m\n\u001b[0;32m    142\u001b[0m \u001b[38;5;28;01mif\u001b[39;00m \u001b[38;5;124m\"\u001b[39m\u001b[38;5;124mContent-Type\u001b[39m\u001b[38;5;124m\"\u001b[39m \u001b[38;5;129;01mnot\u001b[39;00m \u001b[38;5;129;01min\u001b[39;00m headers:\n\u001b[0;32m    143\u001b[0m     headers[\u001b[38;5;124m\"\u001b[39m\u001b[38;5;124mContent-Type\u001b[39m\u001b[38;5;124m\"\u001b[39m] \u001b[38;5;241m=\u001b[39m \u001b[38;5;124m\"\u001b[39m\u001b[38;5;124mapplication/json\u001b[39m\u001b[38;5;124m\"\u001b[39m\n\u001b[1;32m--> 144\u001b[0m \u001b[38;5;28;01mreturn\u001b[39;00m \u001b[38;5;28;43mself\u001b[39;49m\u001b[38;5;241;43m.\u001b[39;49m\u001b[43mapi_client\u001b[49m\u001b[38;5;241;43m.\u001b[39;49m\u001b[43mrequest\u001b[49m\u001b[43m(\u001b[49m\n\u001b[0;32m    145\u001b[0m \u001b[43m    \u001b[49m\u001b[43mtype_\u001b[49m\u001b[38;5;241;43m=\u001b[39;49m\u001b[43mm\u001b[49m\u001b[38;5;241;43m.\u001b[39;49m\u001b[43mInlineResponse20019\u001b[49m\u001b[43m,\u001b[49m\n\u001b[0;32m    146\u001b[0m \u001b[43m    \u001b[49m\u001b[43mmethod\u001b[49m\u001b[38;5;241;43m=\u001b[39;49m\u001b[38;5;124;43m\"\u001b[39;49m\u001b[38;5;124;43mPOST\u001b[39;49m\u001b[38;5;124;43m\"\u001b[39;49m\u001b[43m,\u001b[49m\n\u001b[0;32m    147\u001b[0m \u001b[43m    \u001b[49m\u001b[43murl\u001b[49m\u001b[38;5;241;43m=\u001b[39;49m\u001b[38;5;124;43m\"\u001b[39;49m\u001b[38;5;124;43m/collections/\u001b[39;49m\u001b[38;5;132;43;01m{collection_name}\u001b[39;49;00m\u001b[38;5;124;43m/points/count\u001b[39;49m\u001b[38;5;124;43m\"\u001b[39;49m\u001b[43m,\u001b[49m\n\u001b[0;32m    148\u001b[0m \u001b[43m    \u001b[49m\u001b[43mheaders\u001b[49m\u001b[38;5;241;43m=\u001b[39;49m\u001b[43mheaders\u001b[49m\u001b[43m \u001b[49m\u001b[38;5;28;43;01mif\u001b[39;49;00m\u001b[43m \u001b[49m\u001b[43mheaders\u001b[49m\u001b[43m \u001b[49m\u001b[38;5;28;43;01melse\u001b[39;49;00m\u001b[43m \u001b[49m\u001b[38;5;28;43;01mNone\u001b[39;49;00m\u001b[43m,\u001b[49m\n\u001b[0;32m    149\u001b[0m \u001b[43m    \u001b[49m\u001b[43mpath_params\u001b[49m\u001b[38;5;241;43m=\u001b[39;49m\u001b[43mpath_params\u001b[49m\u001b[43m,\u001b[49m\n\u001b[0;32m    150\u001b[0m \u001b[43m    \u001b[49m\u001b[43mparams\u001b[49m\u001b[38;5;241;43m=\u001b[39;49m\u001b[43mquery_params\u001b[49m\u001b[43m,\u001b[49m\n\u001b[0;32m    151\u001b[0m \u001b[43m    \u001b[49m\u001b[43mcontent\u001b[49m\u001b[38;5;241;43m=\u001b[39;49m\u001b[43mbody\u001b[49m\u001b[43m,\u001b[49m\n\u001b[0;32m    152\u001b[0m \u001b[43m\u001b[49m\u001b[43m)\u001b[49m\n",
      "File \u001b[1;32me:\\Python\\Lib\\site-packages\\qdrant_client\\http\\api_client.py:79\u001b[0m, in \u001b[0;36mApiClient.request\u001b[1;34m(self, type_, method, url, path_params, **kwargs)\u001b[0m\n\u001b[0;32m     77\u001b[0m     kwargs[\u001b[38;5;124m\"\u001b[39m\u001b[38;5;124mtimeout\u001b[39m\u001b[38;5;124m\"\u001b[39m] \u001b[38;5;241m=\u001b[39m \u001b[38;5;28mint\u001b[39m(kwargs[\u001b[38;5;124m\"\u001b[39m\u001b[38;5;124mparams\u001b[39m\u001b[38;5;124m\"\u001b[39m][\u001b[38;5;124m\"\u001b[39m\u001b[38;5;124mtimeout\u001b[39m\u001b[38;5;124m\"\u001b[39m])\n\u001b[0;32m     78\u001b[0m request \u001b[38;5;241m=\u001b[39m \u001b[38;5;28mself\u001b[39m\u001b[38;5;241m.\u001b[39m_client\u001b[38;5;241m.\u001b[39mbuild_request(method, url, \u001b[38;5;241m*\u001b[39m\u001b[38;5;241m*\u001b[39mkwargs)\n\u001b[1;32m---> 79\u001b[0m \u001b[38;5;28;01mreturn\u001b[39;00m \u001b[38;5;28;43mself\u001b[39;49m\u001b[38;5;241;43m.\u001b[39;49m\u001b[43msend\u001b[49m\u001b[43m(\u001b[49m\u001b[43mrequest\u001b[49m\u001b[43m,\u001b[49m\u001b[43m \u001b[49m\u001b[43mtype_\u001b[49m\u001b[43m)\u001b[49m\n",
      "File \u001b[1;32me:\\Python\\Lib\\site-packages\\qdrant_client\\http\\api_client.py:102\u001b[0m, in \u001b[0;36mApiClient.send\u001b[1;34m(self, request, type_)\u001b[0m\n\u001b[0;32m    100\u001b[0m     \u001b[38;5;28;01mexcept\u001b[39;00m ValidationError \u001b[38;5;28;01mas\u001b[39;00m e:\n\u001b[0;32m    101\u001b[0m         \u001b[38;5;28;01mraise\u001b[39;00m ResponseHandlingException(e)\n\u001b[1;32m--> 102\u001b[0m \u001b[38;5;28;01mraise\u001b[39;00m UnexpectedResponse\u001b[38;5;241m.\u001b[39mfor_response(response)\n",
      "\u001b[1;31mUnexpectedResponse\u001b[0m: Unexpected Response: 404 (Not Found)\nRaw response content:\nb'{\"status\":{\"error\":\"Not found: Collection `cmc_final_db` doesn\\'t exist!\"},\"time\":0.000030793}'"
     ]
    }
   ],
   "source": [
    "diachi='Địa chỉ cmc ts: Hà Nội: Tầng 16, Tòa nhà CMC, Duy Tân, Quận Cầu Giấy, Hà Nội Điện thoại: +84 243 795 8686 | Fax: +84 237 958 383, Chi nhánh TP. Hồ Chí Minh: Tầng 9, Toà nhà CMC Creative Space, Đường 19A, KCX Tân Thuận, Quận 7, TP. Hồ Chí Minh'\n",
    "client = QdrantClient(\n",
    "    url=url, \n",
    "    api_key=qdrant_key,\n",
    ")\n",
    "print(client.get_collections())\n",
    "diachi_doc=Document(page_content=diachi)\n",
    "collection_name = \"cmc_final_db\"\n",
    "number_points = client.count(collection_name).count\n",
    "print(number_points)\n",
    "dis_list=[diachi_doc]\n",
    "for idx,curr_chunk in enumerate(dis_list):\n",
    "    curr_chunk.id=idx+number_points"
   ]
  },
  {
   "cell_type": "code",
   "execution_count": 21,
   "metadata": {},
   "outputs": [
    {
     "name": "stdout",
     "output_type": "stream",
     "text": [
      "collections=[CollectionDescription(name='cmc_corp_full_web'), CollectionDescription(name='cmc_corp_full_web_2')]\n",
      "29621\n",
      "1\n",
      "Database created and documents added successfully.\n"
     ]
    },
    {
     "data": {
      "text/plain": [
       "<langchain_qdrant.qdrant.QdrantVectorStore at 0x268f9252ed0>"
      ]
     },
     "execution_count": 21,
     "metadata": {},
     "output_type": "execute_result"
    }
   ],
   "source": [
    "create_vector_db(dis_list)"
   ]
  },
  {
   "cell_type": "code",
   "execution_count": 6,
   "metadata": {},
   "outputs": [
    {
     "name": "stdout",
     "output_type": "stream",
     "text": [
      "94\n",
      "page_content='TH Group hợp tác với CMC tiên phong ứng dụng AI vào hệ thống quản lý nhân sự 09/10/2024'\n",
      "collections=[CollectionDescription(name='cmc_corp_full_web'), CollectionDescription(name='cmc_corp_full_web_2')]\n",
      "29527\n"
     ]
    }
   ],
   "source": [
    "from pymongo import MongoClient\n",
    "\n",
    "# Connect to MongoDB\n",
    "client = MongoClient('mongodb://localhost:27017/')\n",
    "db = client['cmc_data']\n",
    "collection = db['cmcati']\n",
    "\n",
    "# Retrieve document sizes\n",
    "sizes = [doc['page_size'] for doc in collection.find({}, {'page_size': 1})]\n",
    "print(len(sizes))\n",
    "\n",
    "documents = collection.find({}, {'page_content': 1, 'size': 1})\n",
    "docs_list=[Document(page_content=doc['page_content']) for doc in documents]\n",
    "print(docs_list[0])\n",
    "client = QdrantClient(\n",
    "    url=url, \n",
    "    api_key=qdrant_key,\n",
    ")\n",
    "print(client.get_collections())\n",
    "collection_name = \"cmc_corp_full_web_2\"\n",
    "number_points = client.count(collection_name).count\n",
    "print(number_points)\n",
    "for idx,curr_chunk in enumerate(docs_list):\n",
    "    curr_chunk.id=idx+number_points"
   ]
  },
  {
   "cell_type": "code",
   "execution_count": 9,
   "metadata": {},
   "outputs": [
    {
     "name": "stdout",
     "output_type": "stream",
     "text": [
      "29577\n"
     ]
    }
   ],
   "source": [
    "print(docs_list[50].id)"
   ]
  },
  {
   "cell_type": "code",
   "execution_count": 10,
   "metadata": {},
   "outputs": [
    {
     "data": {
      "image/png": "[encoded data removed]",
      "text/plain": [
       "<Figure size 1000x600 with 1 Axes>"
      ]
     },
     "metadata": {},
     "output_type": "display_data"
    }
   ],
   "source": [
    "import numpy as np\n",
    "import pandas as pd\n",
    "\n",
    "# Define the bins\n",
    "bins = np.arange(0, 1001, 50)  # Adjust range and step size as needed\n",
    "\n",
    "# Create a DataFrame to count sizes in each bin\n",
    "size_counts, bin_edges = np.histogram(sizes, bins=bins)\n",
    "\n",
    "# Convert to a DataFrame for easier plotting\n",
    "size_data = pd.DataFrame({\n",
    "    'bin_range': [f'{bin_edges[i]}-{bin_edges[i + 1]}' for i in range(len(size_counts))],\n",
    "    'count': size_counts\n",
    "})\n",
    "import matplotlib.pyplot as plt\n",
    "\n",
    "# Plotting\n",
    "plt.figure(figsize=(10, 6))\n",
    "plt.bar(size_data['bin_range'], size_data['count'], color='blue')\n",
    "plt.xlabel('Document Size Ranges')\n",
    "plt.ylabel('Count of Documents')\n",
    "plt.title('Document Sizes Distribution')\n",
    "plt.xticks(rotation=45)\n",
    "plt.grid(axis='y', linestyle='--', alpha=0.7)\n",
    "plt.tight_layout()\n",
    "\n",
    "# Show the plot\n",
    "plt.show()\n"
   ]
  },
  {
   "cell_type": "code",
   "execution_count": 11,
   "metadata": {},
   "outputs": [
    {
     "name": "stderr",
     "output_type": "stream",
     "text": [
      "d:\\python\\Lib\\site-packages\\sentence_transformers\\cross_encoder\\CrossEncoder.py:11: TqdmExperimentalWarning: Using `tqdm.autonotebook.tqdm` in notebook mode. Use `tqdm.tqdm` instead to force console mode (e.g. in jupyter console)\n",
      "  from tqdm.autonotebook import tqdm, trange\n"
     ]
    },
    {
     "name": "stdout",
     "output_type": "stream",
     "text": [
      "collections=[CollectionDescription(name='cmc_corp_full_web'), CollectionDescription(name='cmc_corp_full_web_2')]\n",
      "29527\n",
      "Database created and documents added successfully.\n"
     ]
    },
    {
     "data": {
      "text/plain": [
       "<langchain_qdrant.qdrant.QdrantVectorStore at 0x27ec516ffd0>"
      ]
     },
     "execution_count": 11,
     "metadata": {},
     "output_type": "execute_result"
    }
   ],
   "source": [
    "create_vector_db(docs_list)"
   ]
  }
 ],
 "metadata": {
  "kernelspec": {
   "display_name": "Python 3",
   "language": "python",
   "name": "python3"
  },
  "language_info": {
   "codemirror_mode": {
    "name": "ipython",
    "version": 3
   },
   "file_extension": ".py",
   "mimetype": "text/x-python",
   "name": "python",
   "nbconvert_exporter": "python",
   "pygments_lexer": "ipython3",
   "version": "3.11.0rc1"
  }
 },
 "nbformat": 4,
 "nbformat_minor": 2
}
