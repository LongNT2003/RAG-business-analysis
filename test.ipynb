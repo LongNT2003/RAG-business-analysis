{
 "cells": [
  {
   "cell_type": "code",
   "execution_count": 1,
   "metadata": {},
   "outputs": [
    {
     "name": "stdout",
     "output_type": "stream",
     "text": [
      "1273\n"
     ]
    }
   ],
   "source": [
    "a=\"At Example Corp, we pride ourselves on delivering world-class solutions that meet the diverse needs of our clients. Founded in 2010, our company has grown from a small startup to an industry leader, employing over 1,000 dedicated professionals worldwide. Our mission is to innovate and provide cutting-edge technology that empowers businesses to achieve their goals efficiently and sustainably. Over the years, we have partnered with numerous Fortune 500 companies, offering customized solutions in areas such as cloud computing, artificial intelligence, and data analytics.\\n\\nOur commitment to excellence is demonstrated through our customer-first approach, ensuring that every solution is tailored to meet specific client needs. By investing heavily in research and development, we have launched several groundbreaking products, such as the Example AI Suite, which has transformed the way businesses leverage machine learning. Additionally, our strong focus on corporate social responsibility drives our initiatives in sustainability, community engagement, and employee welfare.\\n\\nAs we look to the future, Example Corp aims to expand its global presence and continue to lead the industry in innovation. Join us on our journey as we shape the future of technology together.\"\n",
    "print(len(a))"
   ]
  }
 ],
 "metadata": {
  "kernelspec": {
   "display_name": "Python 3",
   "language": "python",
   "name": "python3"
  },
  "language_info": {
   "codemirror_mode": {
    "name": "ipython",
    "version": 3
   },
   "file_extension": ".py",
   "mimetype": "text/x-python",
   "name": "python",
   "nbconvert_exporter": "python",
   "pygments_lexer": "ipython3",
   "version": "3.11.0rc1"
  }
 },
 "nbformat": 4,
 "nbformat_minor": 2
}
